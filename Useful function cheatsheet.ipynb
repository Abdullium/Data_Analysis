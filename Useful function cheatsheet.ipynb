{
 "cells": [
  {
   "cell_type": "code",
   "execution_count": null,
   "id": "24a2c320-28ac-42e5-9a70-fb78095bcd4a",
   "metadata": {},
   "outputs": [],
   "source": [
    "df[\"gender\"] = df[\"gender\"].map({\"F\":0, \"M\":1})"
   ]
  },
  {
   "cell_type": "code",
   "execution_count": null,
   "id": "cbbaf87e",
   "metadata": {},
   "outputs": [],
   "source": [
    "df.nlargest(5, ‘total_bill' )\n",
    "            \n",
    "df.nsmallest(5, ‘total_bill')"
   ]
  },
  {
   "cell_type": "code",
   "execution_count": null,
   "id": "05fabf90-72c5-4742-92b1-54af2637e9d5",
   "metadata": {},
   "outputs": [],
   "source": [
    "df[[\"customer_type\",\"adults\"]].groupby(\"customer_type\").agg({\"adults\":\"sum\"})"
   ]
  },
  {
   "cell_type": "code",
   "execution_count": null,
   "id": "0175aafa-06ba-4d9d-8740-9f694fc9a6e4",
   "metadata": {},
   "outputs": [],
   "source": [
    "sns.barplot(data = df, x=\"customer_type\", y= \"adults\",estimator=sum, ci = None)"
   ]
  },
  {
   "cell_type": "code",
   "execution_count": null,
   "id": "9cb58609-0aed-485b-8919-d3bde8db223a",
   "metadata": {},
   "outputs": [],
   "source": [
    "df[(df['x']==1) & (df['y']==10)]"
   ]
  },
  {
   "cell_type": "code",
   "execution_count": null,
   "id": "e8fe373e-33af-423d-a786-5e51c824a2f7",
   "metadata": {},
   "outputs": [],
   "source": [
    "df = pd.read_csv(\"full_acc/account.csv\", sep=\";\")"
   ]
  },
  {
   "cell_type": "code",
   "execution_count": null,
   "id": "117f9e47-dc3e-41d0-bc17-758b7c945097",
   "metadata": {},
   "outputs": [],
   "source": [
    "%whos DataFrame"
   ]
  },
  {
   "cell_type": "code",
   "execution_count": null,
   "id": "cea41573-d963-4fc6-8fe0-d945ba3885f1",
   "metadata": {},
   "outputs": [],
   "source": [
    "round(df.isnull().sum()/191556 *100).sort_values(ascending=False)"
   ]
  },
  {
   "cell_type": "code",
   "execution_count": null,
   "id": "b799bb41-e74a-459f-8ffe-dd2f22c78378",
   "metadata": {},
   "outputs": [],
   "source": [
    "sns.set(rc={'figure.figsize':(11,8)})"
   ]
  },
  {
   "cell_type": "code",
   "execution_count": null,
   "id": "1c844b9a-43e2-4f22-97cc-9b1a890d68d9",
   "metadata": {},
   "outputs": [],
   "source": [
    "df2.infer_objects().dtypes # Tell the appropriate data types for the columns"
   ]
  },
  {
   "cell_type": "code",
   "execution_count": null,
   "id": "6c87f38c-5ffd-42f5-9253-7c8fc26484fe",
   "metadata": {},
   "outputs": [],
   "source": [
    "df.select_dtypes(include='int64')  \n",
    "#Select_dtypes function returns a subset of the DataFrame’s columns based on the condition set on data types."
   ]
  },
  {
   "cell_type": "code",
   "execution_count": null,
   "id": "59225aff-93bb-45b5-a992-d0774b01190a",
   "metadata": {},
   "outputs": [],
   "source": [
    "df.query('value_1 < value_2') # query the date like in sql "
   ]
  },
  {
   "cell_type": "code",
   "execution_count": null,
   "id": "d455766c-9cea-4f15-b2ac-ba5c191b682e",
   "metadata": {},
   "outputs": [],
   "source": [
    "df.rename(columns={'Mode of Transaction': 'mode_of_transaction'}, inplace=True)"
   ]
  },
  {
   "cell_type": "code",
   "execution_count": null,
   "id": "217756e6",
   "metadata": {},
   "outputs": [],
   "source": [
    "df2.drop(['account_id', 'order_id','client_id','card_id'], axis=1, inplace=True)"
   ]
  },
  {
   "cell_type": "code",
   "execution_count": null,
   "id": "2d926a93",
   "metadata": {},
   "outputs": [],
   "source": [
    "df2.drop(df2.columns[10], axis=1, inplace=True)"
   ]
  },
  {
   "cell_type": "code",
   "execution_count": null,
   "id": "6bf7c9b0",
   "metadata": {},
   "outputs": [],
   "source": [
    "orders['date'] = pd.to_datetime(orders[ ‘timestamp’ ].str[:10])"
   ]
  }
 ],
 "metadata": {
  "kernelspec": {
   "display_name": "Python 3 (ipykernel)",
   "language": "python",
   "name": "python3"
  },
  "language_info": {
   "codemirror_mode": {
    "name": "ipython",
    "version": 3
   },
   "file_extension": ".py",
   "mimetype": "text/x-python",
   "name": "python",
   "nbconvert_exporter": "python",
   "pygments_lexer": "ipython3",
   "version": "3.9.13"
  }
 },
 "nbformat": 4,
 "nbformat_minor": 5
}
