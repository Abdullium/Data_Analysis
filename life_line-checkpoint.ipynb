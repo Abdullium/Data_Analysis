{
 "cells": [
  {
   "cell_type": "markdown",
   "id": "f82bf591",
   "metadata": {},
   "source": [
    "# About the Dataset:-\n",
    "#### this dataset explores the aftermath of internet response on shinzo abe's assanination, more specifically twitter dataset \n",
    "\n",
    "#### source: https://www.npr.org/2022/07/08/1110440504/former-japan-prime-minister-shinzo-abe-killed\n",
    "\n",
    "# Description of dataset:-\n",
    "#### Former Japanese Prime Minister Shinzo Abe, a nationalist who served in the post longer than anyone else before stepping down in 2020, was shot and killed on Friday at a campaign rally.\n",
    "\n",
    "#### Security tackled the suspected gunman at the scene of an attack, and he was arrested by police. The shooting shocked many in Japan, which is one of the world's safest nations and has some of the strictest gun control laws anywhere.\n"
   ]
  },
  {
   "cell_type": "markdown",
   "id": "5538db62",
   "metadata": {},
   "source": [
    "## Insights :-\n",
    "\n",
    "##### So , Now I Have Fully Analyzed The Dataset And Found Some Interesting Insights Here They Are :\n",
    "\n",
    "##### 1)  37 %  Of  Rows Are Missing From Location Column , Other Than This No Column Has Missing Values\n",
    "##### 2) One Thing I Noticed That Location Has Different Name But Same Value For Example\" India Can Be Called Bharat Or Hindustan And Has Different Value\" "
   ]
  },
  {
   "cell_type": "markdown",
   "id": "4285f85c",
   "metadata": {},
   "source": [
    "## Importing libraries for data analysis:-"
   ]
  },
  {
   "cell_type": "code",
   "execution_count": 80,
   "id": "777d29e7",
   "metadata": {},
   "outputs": [
    {
     "name": "stderr",
     "output_type": "stream",
     "text": [
      "[nltk_data] Downloading package stopwords to\n",
      "[nltk_data]     C:\\Users\\Hazra/nltk_data...\n",
      "[nltk_data]   Package stopwords is already up-to-date!\n"
     ]
    },
    {
     "data": {
      "text/plain": [
       "True"
      ]
     },
     "execution_count": 80,
     "metadata": {},
     "output_type": "execute_result"
    }
   ],
   "source": [
    "# importing libraries :-\n",
    "import numpy as np\n",
    "import matplotlib.pyplot as plt\n",
    "import pandas as pd\n",
    "import seaborn as sns\n",
    "import squarify\n",
    "from collections import Counter\n",
    "import nltk\n",
    "import datetime\n",
    "nltk.download('stopwords')"
   ]
  },
  {
   "cell_type": "code",
   "execution_count": 81,
   "id": "2754e8f6",
   "metadata": {},
   "outputs": [],
   "source": [
    "# setting max row display value to 100 \n",
    "pd.set_option(\"display.max_rows\", 100)"
   ]
  },
  {
   "cell_type": "markdown",
   "id": "5d608054",
   "metadata": {},
   "source": [
    "## Reading the dataset "
   ]
  },
  {
   "cell_type": "code",
   "execution_count": 82,
   "id": "29db277e",
   "metadata": {},
   "outputs": [],
   "source": [
    "# reading dataset\n",
    "df = pd.read_csv(\"ShinzoabeCombinedTweets_20220710-102632.csv.gzip\", compression=\"gzip\")"
   ]
  },
  {
   "cell_type": "code",
   "execution_count": 83,
   "id": "3ed517ee",
   "metadata": {},
   "outputs": [],
   "source": [
    "# droping duplicate values from dataset\n",
    "df.drop_duplicates(inplace=True)"
   ]
  },
  {
   "cell_type": "code",
   "execution_count": 84,
   "id": "aaad99d2",
   "metadata": {},
   "outputs": [],
   "source": [
    "# droping unimportant columns from dataset\n",
    "df.drop([\"Unnamed: 0\",\"original_tweet_id\",\"tweetid\",\"in_reply_to_status_id\",\"quoted_status_id\"],axis=1,inplace=True)"
   ]
  },
  {
   "cell_type": "code",
   "execution_count": 85,
   "id": "bb7336d4",
   "metadata": {},
   "outputs": [],
   "source": [
    "df.drop(\"hashed_userid\" ,axis=1,inplace=True)"
   ]
  },
  {
   "cell_type": "code",
   "execution_count": 86,
   "id": "435263ef",
   "metadata": {},
   "outputs": [
    {
     "data": {
      "text/plain": [
       "masked_username        0\n",
       "location           52892\n",
       "following              0\n",
       "followers              0\n",
       "totaltweets            0\n",
       "usercreateddt          0\n",
       "tweetcreatedts         0\n",
       "retweetcount           0\n",
       "text                   0\n",
       "hashtags               0\n",
       "language               0\n",
       "favorite_count         0\n",
       "is_retweet             0\n",
       "is_quote_status        0\n",
       "extractedts            0\n",
       "dtype: int64"
      ]
     },
     "execution_count": 86,
     "metadata": {},
     "output_type": "execute_result"
    }
   ],
   "source": [
    "# showing null values of dataset\n",
    "df.isnull().sum()"
   ]
  },
  {
   "cell_type": "code",
   "execution_count": 87,
   "id": "60d28eee",
   "metadata": {},
   "outputs": [],
   "source": [
    "# i'm changing the column datatype to datetime \n",
    "df[\"tweetcreatedts\"] = pd.to_datetime(df[\"tweetcreatedts\"])\n",
    "df[\"extractedts\"] = pd.to_datetime(df[\"extractedts\"])\n",
    "df['usercreateddt']= pd.to_datetime(df['usercreateddt'])"
   ]
  },
  {
   "cell_type": "code",
   "execution_count": 88,
   "id": "87efc006",
   "metadata": {},
   "outputs": [
    {
     "name": "stdout",
     "output_type": "stream",
     "text": [
      "<class 'pandas.core.frame.DataFrame'>\n",
      "Int64Index: 141465 entries, 0 to 141464\n",
      "Data columns (total 15 columns):\n",
      " #   Column           Non-Null Count   Dtype         \n",
      "---  ------           --------------   -----         \n",
      " 0   masked_username  141465 non-null  object        \n",
      " 1   location         88573 non-null   object        \n",
      " 2   following        141465 non-null  int64         \n",
      " 3   followers        141465 non-null  int64         \n",
      " 4   totaltweets      141465 non-null  int64         \n",
      " 5   usercreateddt    141465 non-null  datetime64[ns]\n",
      " 6   tweetcreatedts   141465 non-null  datetime64[ns]\n",
      " 7   retweetcount     141465 non-null  int64         \n",
      " 8   text             141465 non-null  object        \n",
      " 9   hashtags         141465 non-null  object        \n",
      " 10  language         141465 non-null  object        \n",
      " 11  favorite_count   141465 non-null  int64         \n",
      " 12  is_retweet       141465 non-null  bool          \n",
      " 13  is_quote_status  141465 non-null  bool          \n",
      " 14  extractedts      141465 non-null  datetime64[ns]\n",
      "dtypes: bool(2), datetime64[ns](3), int64(5), object(5)\n",
      "memory usage: 15.4+ MB\n"
     ]
    }
   ],
   "source": [
    "df.info()"
   ]
  },
  {
   "cell_type": "markdown",
   "id": "402f20b7",
   "metadata": {},
   "source": [
    "## Analyzing And Visualizing the dataset:-\n"
   ]
  },
  {
   "cell_type": "code",
   "execution_count": 89,
   "id": "7aa76df0",
   "metadata": {},
   "outputs": [
    {
     "data": {
      "image/png": "[encoded data removed]",
      "text/plain": [
       "<Figure size 1080x504 with 1 Axes>"
      ]
     },
     "metadata": {
      "needs_background": "light"
     },
     "output_type": "display_data"
    }
   ],
   "source": [
    "# this graph shows tweets progression by time, see how tweets count grows over time linearly. \n",
    "plt.figure(figsize=(15,7))\n",
    "plt.plot(df[\"tweetcreatedts\"], df.index,\"--\")\n",
    "plt.xlabel(\"Month-Day-Hour\",fontsize=15)\n",
    "plt.ylabel(\"Tweets\",fontsize=15)\n",
    "plt.title(\"Tweets By Day-hour TimeLine\")\n",
    "plt.show()"
   ]
  },
  {
   "cell_type": "code",
   "execution_count": 196,
   "id": "808730ad",
   "metadata": {},
   "outputs": [
    {
     "data": {
      "image/png": "[encoded data removed]",
      "text/plain": [
       "<Figure size 1080x504 with 1 Axes>"
      ]
     },
     "metadata": {
      "needs_background": "light"
     },
     "output_type": "display_data"
    }
   ],
   "source": [
    "# plotting histogram of when the tweets data is extracted from twitter. \n",
    "plt.figure(figsize=(15,7))\n",
    "plt.hist(df[\"extractedts\"], edgecolor = \"white\", align=\"mid\");\n",
    "plt.xlabel(\"Month_Day_Hour\",fontsize=15);\n",
    "plt.ylabel(\"Extract_Count\",fontsize=15);"
   ]
  },
  {
   "cell_type": "code",
   "execution_count": 91,
   "id": "11648c19",
   "metadata": {},
   "outputs": [
    {
     "data": {
      "text/html": [
       "<div>\n",
       "<style scoped>\n",
       "    .dataframe tbody tr th:only-of-type {\n",
       "        vertical-align: middle;\n",
       "    }\n",
       "\n",
       "    .dataframe tbody tr th {\n",
       "        vertical-align: top;\n",
       "    }\n",
       "\n",
       "    .dataframe thead th {\n",
       "        text-align: right;\n",
       "    }\n",
       "</style>\n",
       "<table border=\"1\" class=\"dataframe\">\n",
       "  <thead>\n",
       "    <tr style=\"text-align: right;\">\n",
       "      <th></th>\n",
       "      <th>0</th>\n",
       "      <th>1</th>\n",
       "    </tr>\n",
       "  </thead>\n",
       "  <tbody>\n",
       "    <tr>\n",
       "      <th>2</th>\n",
       "      <td>#shinzoabe</td>\n",
       "      <td>76853</td>\n",
       "    </tr>\n",
       "    <tr>\n",
       "      <th>8</th>\n",
       "      <td>former</td>\n",
       "      <td>33690</td>\n",
       "    </tr>\n",
       "    <tr>\n",
       "      <th>10</th>\n",
       "      <td>abe</td>\n",
       "      <td>29261</td>\n",
       "    </tr>\n",
       "    <tr>\n",
       "      <th>12</th>\n",
       "      <td>#japan</td>\n",
       "      <td>27125</td>\n",
       "    </tr>\n",
       "    <tr>\n",
       "      <th>14</th>\n",
       "      <td>shinzo</td>\n",
       "      <td>26063</td>\n",
       "    </tr>\n",
       "    <tr>\n",
       "      <th>15</th>\n",
       "      <td>prime</td>\n",
       "      <td>24826</td>\n",
       "    </tr>\n",
       "    <tr>\n",
       "      <th>17</th>\n",
       "      <td>minister</td>\n",
       "      <td>23461</td>\n",
       "    </tr>\n",
       "    <tr>\n",
       "      <th>20</th>\n",
       "      <td>pm</td>\n",
       "      <td>22137</td>\n",
       "    </tr>\n",
       "    <tr>\n",
       "      <th>21</th>\n",
       "      <td>japanese</td>\n",
       "      <td>20869</td>\n",
       "    </tr>\n",
       "    <tr>\n",
       "      <th>23</th>\n",
       "      <td>india</td>\n",
       "      <td>20628</td>\n",
       "    </tr>\n",
       "    <tr>\n",
       "      <th>26</th>\n",
       "      <td>&amp;amp;</td>\n",
       "      <td>16806</td>\n",
       "    </tr>\n",
       "    <tr>\n",
       "      <th>27</th>\n",
       "      <td>.</td>\n",
       "      <td>16749</td>\n",
       "    </tr>\n",
       "    <tr>\n",
       "      <th>28</th>\n",
       "      <td>friend</td>\n",
       "      <td>16349</td>\n",
       "    </tr>\n",
       "    <tr>\n",
       "      <th>31</th>\n",
       "      <td>japan</td>\n",
       "      <td>15871</td>\n",
       "    </tr>\n",
       "    <tr>\n",
       "      <th>36</th>\n",
       "      <td>great</td>\n",
       "      <td>12831</td>\n",
       "    </tr>\n",
       "    <tr>\n",
       "      <th>38</th>\n",
       "      <td>shot</td>\n",
       "      <td>12679</td>\n",
       "    </tr>\n",
       "    <tr>\n",
       "      <th>39</th>\n",
       "      <td>people</td>\n",
       "      <td>12675</td>\n",
       "    </tr>\n",
       "    <tr>\n",
       "      <th>43</th>\n",
       "      <td>#shinzoabeshot</td>\n",
       "      <td>10522</td>\n",
       "    </tr>\n",
       "    <tr>\n",
       "      <th>44</th>\n",
       "      <td>world</td>\n",
       "      <td>10296</td>\n",
       "    </tr>\n",
       "    <tr>\n",
       "      <th>46</th>\n",
       "      <td>rest</td>\n",
       "      <td>8842</td>\n",
       "    </tr>\n",
       "  </tbody>\n",
       "</table>\n",
       "</div>"
      ],
      "text/plain": [
       "                 0      1\n",
       "2       #shinzoabe  76853\n",
       "8           former  33690\n",
       "10             abe  29261\n",
       "12          #japan  27125\n",
       "14          shinzo  26063\n",
       "15           prime  24826\n",
       "17        minister  23461\n",
       "20              pm  22137\n",
       "21        japanese  20869\n",
       "23           india  20628\n",
       "26           &amp;  16806\n",
       "27               .  16749\n",
       "28          friend  16349\n",
       "31           japan  15871\n",
       "36           great  12831\n",
       "38            shot  12679\n",
       "39          people  12675\n",
       "43  #shinzoabeshot  10522\n",
       "44           world  10296\n",
       "46            rest   8842"
      ]
     },
     "execution_count": 91,
     "metadata": {},
     "output_type": "execute_result"
    }
   ],
   "source": [
    "# filtering the most x words from [\"text\"] column and then removing the stopwords from it.\n",
    "# and then storing it in \"x\" variable \n",
    "from nltk.corpus import stopwords\n",
    "stop = stopwords.words('english')\n",
    "x = Counter(\" \".join(df.text).lower().split()).most_common()\n",
    "x = pd.DataFrame(x[:50])\n",
    "x[0] = x[0].apply(lambda x: ' '.join([word for word in x.split() if word not in (stop)]))\n",
    "x = x[x[0].astype(bool)] \n",
    "x"
   ]
  },
  {
   "cell_type": "code",
   "execution_count": 92,
   "id": "e322387b",
   "metadata": {},
   "outputs": [
    {
     "data": {
      "image/png": "[encoded data removed]",
      "text/plain": [
       "<Figure size 1728x720 with 1 Axes>"
      ]
     },
     "metadata": {
      "needs_background": "light"
     },
     "output_type": "display_data"
    }
   ],
   "source": [
    "# plotting top 10 words most occuring words from [\"text\"] column on bar graph excluding stopwords.\n",
    "plt.figure(figsize=(24,10))\n",
    "plt.bar(x[0].iloc[0:10], x[1].iloc[0:10]);"
   ]
  },
  {
   "cell_type": "code",
   "execution_count": 38,
   "id": "e6be7d98",
   "metadata": {},
   "outputs": [
    {
     "data": {
      "text/plain": [
       "<BarContainer object of 10 artists>"
      ]
     },
     "execution_count": 38,
     "metadata": {},
     "output_type": "execute_result"
    },
    {
     "data": {
      "image/png": "[encoded data removed]",
      "text/plain": [
       "<Figure size 1440x720 with 1 Axes>"
      ]
     },
     "metadata": {
      "needs_background": "light"
     },
     "output_type": "display_data"
    }
   ],
   "source": [
    "# plotting top 10 hashtags from [\"hashtags\"] column. \n",
    "common_hashtags = df[\"hashtags\"].str.split(expand=True)\n",
    "common_hashtags = common_hashtags[1]\n",
    "common_hashtags = common_hashtags.value_counts().head(10)\n",
    "common_hashtags = pd.DataFrame(common_hashtags)\n",
    "plt.figure(figsize=(20,10))\n",
    "plt.bar(common_hashtags.index,common_hashtags[1])"
   ]
  },
  {
   "cell_type": "code",
   "execution_count": 182,
   "id": "8d7214ed",
   "metadata": {},
   "outputs": [
    {
     "data": {
      "text/plain": [
       "((28895, 15), (10313, 15), (2299, 15), (2237, 15), (2766, 15))"
      ]
     },
     "execution_count": 182,
     "metadata": {},
     "output_type": "execute_result"
    }
   ],
   "source": [
    "ind = df[df['location'].str.contains('Rajasthan|West Bengal|Maharastra|Pune|indiaia|indiaia|भारत|Hindiaustan|Bharat|bharat|india|Bihar|Mumbai|mumbai|New Delhi|new delhi|uttar pradesh|Kolkata|Jaipur|Agra|agra|kolkata|Banglore|Bengluru|Chennai|Hyderabad|Varanasi|Udaipur|Lucknow|Ahmedabad|Bhilai|Surat|India|india|Hindustan|hindustan|Bharat|bharat|इंडिया|हिंदुस्तान|bhaarat|बिहार|उत्तर प्रदेश|मुंबई|कोलकाता|चेन्नई|बैंगलोर|हैदराबाद|अहमदाबाद|Raipur|raipur|दिल्ली|कर्नाटक|Karnataka|karnataka|कर्नाटक|Telangana|तेलंगाना|Gujarat|गुजरात|gujarat|Tamil Nadu|tamil nadu|तमिलनाडु|पश्चिम बंगाल|Madhya Pradesh|मध्य प्रदेश|Punjab|पंजाब|नागपुर|Nagpur|Bhopal|bhopal|nagpur|Indore|indore|Visakhapatnam|Patna|patna|Vadodara|vadodara|Ghaziabad|ghaziabad|Ludhiana|Nashik|अहमदाबाद|कानपुर|Kerala|केरल|Jharkhand|झारखंड|Andhra Pradesh|andra pradesh|Uttarakhand|uttarakhand|Jammu and Kashmir|jammu and Kashmir|जम्मू और कश्मीर|Mirzapur|Pondicherry', na=False)] \n",
    "us = df[df['location'].str.contains('New Mexico|Wisconsin|Maryland|Tennessee|Nevada|Oregon|Massachusetts|El Paso|Oklahoma City|Nashville|San Jose|Jacksonville|Kansas City|Sacramento|Albuquerque|Denver|Seattle|San Francisco|Austin|San Antonio|Phoenix|San Diego|Dallas|Alaska|Michigan|North Carolina|Minnesota|Arkansas|Iowa|indiaiana|West Virgia|Idaho|Utah|New Jersey|Ohio|florida|Florida|California|United States|US|united states|America|america|CA|ca|new york|New York|Los Angeles|Chicago|chicago|Washington|Houston|houston|Miami|Texas|Pennsylvania|Philadelphia', na=False)]\n",
    "ngr = df[df['location'].str.contains('nigeria|Nigeria|Lagos|Kano|Ibadan|Abuja|Oyo|abuja|Port Harcourt|katuna|Enugu|Benin City|IIlorin|Edo|Kwara|Benin City|Onitsha|Aba', na=False)] \n",
    "jpn =  df[df['location'].str.contains('Japan|japan|jpn|日本|jpn|tokyo|Yokohama|Osaka|Nagoya|osaka|nagoya|yokohama|Tokyo|Sapporo|sapporo|Kawasaki|Chiba|kawasaki|chiba|Kitakyushu|kitakyushu|東京|大阪|札幌|横浜|とうきょう|Hokkaido|北海道|kyoto|瀬戸市|京都市|Saitama|さいたま市|広島市|Toyohashi|Ichinomiya|堺市|大田区|Japan', na=False)] \n",
    "eng = df[df['location'].str.contains('Cambridge|South Hampton|South Hampshire|Yorkshire|Great Britain|Britain|England|UK|United Kingdom|London|Manchester|Essex|Winchester|Ipswich|Bristol|Dunwich|Oxford|Liverpool|Birmingham|Sheffield|Bradford|Northern Ireland|Scotland|Wales', na=False)]\n",
    "ind.shape, us.shape, ngr.shape, jpn.shape, eng.shape"
   ]
  },
  {
   "cell_type": "code",
   "execution_count": 184,
   "id": "9617f3f0",
   "metadata": {},
   "outputs": [
    {
     "data": {
      "image/png": "[encoded data removed]",
      "text/plain": [
       "<Figure size 1440x720 with 1 Axes>"
      ]
     },
     "metadata": {},
     "output_type": "display_data"
    }
   ],
   "source": [
    "data = [len(ind), len(us),len(ngr),len(jpn),len(eng)]\n",
    "label = [\"India\",\"US\",\"Nigeria\",\"Japan\", \"England\"]\n",
    "plt.figure(figsize=(20,10))\n",
    "plt.pie(data, shadow=True,autopct='%1.1f%%')\n",
    "plt.legend(label)\n",
    "plt.show()"
   ]
  },
  {
   "cell_type": "code",
   "execution_count": 61,
   "id": "5b5a3338",
   "metadata": {},
   "outputs": [
    {
     "data": {
      "text/html": [
       "<div>\n",
       "<style scoped>\n",
       "    .dataframe tbody tr th:only-of-type {\n",
       "        vertical-align: middle;\n",
       "    }\n",
       "\n",
       "    .dataframe tbody tr th {\n",
       "        vertical-align: top;\n",
       "    }\n",
       "\n",
       "    .dataframe thead th {\n",
       "        text-align: right;\n",
       "    }\n",
       "</style>\n",
       "<table border=\"1\" class=\"dataframe\">\n",
       "  <thead>\n",
       "    <tr style=\"text-align: right;\">\n",
       "      <th></th>\n",
       "      <th>location</th>\n",
       "      <th>Country</th>\n",
       "    </tr>\n",
       "  </thead>\n",
       "  <tbody>\n",
       "    <tr>\n",
       "      <th>India</th>\n",
       "      <td>5446</td>\n",
       "      <td>India</td>\n",
       "    </tr>\n",
       "    <tr>\n",
       "      <th>New Delhi, India</th>\n",
       "      <td>2229</td>\n",
       "      <td>New Delhi, India</td>\n",
       "    </tr>\n",
       "    <tr>\n",
       "      <th>Mumbai, India</th>\n",
       "      <td>1039</td>\n",
       "      <td>Mumbai, India</td>\n",
       "    </tr>\n",
       "    <tr>\n",
       "      <th>United States</th>\n",
       "      <td>930</td>\n",
       "      <td>United States</td>\n",
       "    </tr>\n",
       "    <tr>\n",
       "      <th>Lagos, Nigeria</th>\n",
       "      <td>612</td>\n",
       "      <td>Lagos, Nigeria</td>\n",
       "    </tr>\n",
       "    <tr>\n",
       "      <th>USA</th>\n",
       "      <td>582</td>\n",
       "      <td>USA</td>\n",
       "    </tr>\n",
       "    <tr>\n",
       "      <th>भारत</th>\n",
       "      <td>555</td>\n",
       "      <td>भारत</td>\n",
       "    </tr>\n",
       "    <tr>\n",
       "      <th>New Delhi</th>\n",
       "      <td>533</td>\n",
       "      <td>New Delhi</td>\n",
       "    </tr>\n",
       "    <tr>\n",
       "      <th>Nigeria</th>\n",
       "      <td>510</td>\n",
       "      <td>Nigeria</td>\n",
       "    </tr>\n",
       "    <tr>\n",
       "      <th>Bengaluru, India</th>\n",
       "      <td>509</td>\n",
       "      <td>Bengaluru, India</td>\n",
       "    </tr>\n",
       "    <tr>\n",
       "      <th>Hong Kong</th>\n",
       "      <td>498</td>\n",
       "      <td>Hong Kong</td>\n",
       "    </tr>\n",
       "    <tr>\n",
       "      <th>Hyderabad, India</th>\n",
       "      <td>438</td>\n",
       "      <td>Hyderabad, India</td>\n",
       "    </tr>\n",
       "    <tr>\n",
       "      <th>Chennai, India</th>\n",
       "      <td>420</td>\n",
       "      <td>Chennai, India</td>\n",
       "    </tr>\n",
       "    <tr>\n",
       "      <th>Los Angeles, CA</th>\n",
       "      <td>381</td>\n",
       "      <td>Los Angeles, CA</td>\n",
       "    </tr>\n",
       "    <tr>\n",
       "      <th>Uttar Pradesh, India</th>\n",
       "      <td>377</td>\n",
       "      <td>Uttar Pradesh, India</td>\n",
       "    </tr>\n",
       "    <tr>\n",
       "      <th>Mumbai</th>\n",
       "      <td>358</td>\n",
       "      <td>Mumbai</td>\n",
       "    </tr>\n",
       "    <tr>\n",
       "      <th>Kolkata, India</th>\n",
       "      <td>357</td>\n",
       "      <td>Kolkata, India</td>\n",
       "    </tr>\n",
       "    <tr>\n",
       "      <th>London, England</th>\n",
       "      <td>344</td>\n",
       "      <td>London, England</td>\n",
       "    </tr>\n",
       "    <tr>\n",
       "      <th>Earth</th>\n",
       "      <td>336</td>\n",
       "      <td>Earth</td>\n",
       "    </tr>\n",
       "    <tr>\n",
       "      <th>Jaipur, India</th>\n",
       "      <td>329</td>\n",
       "      <td>Jaipur, India</td>\n",
       "    </tr>\n",
       "    <tr>\n",
       "      <th>California, USA</th>\n",
       "      <td>295</td>\n",
       "      <td>California, USA</td>\n",
       "    </tr>\n",
       "    <tr>\n",
       "      <th>New York, USA</th>\n",
       "      <td>278</td>\n",
       "      <td>New York, USA</td>\n",
       "    </tr>\n",
       "    <tr>\n",
       "      <th>Patna, India</th>\n",
       "      <td>276</td>\n",
       "      <td>Patna, India</td>\n",
       "    </tr>\n",
       "    <tr>\n",
       "      <th>Pune, India</th>\n",
       "      <td>265</td>\n",
       "      <td>Pune, India</td>\n",
       "    </tr>\n",
       "    <tr>\n",
       "      <th>United Kingdom</th>\n",
       "      <td>261</td>\n",
       "      <td>United Kingdom</td>\n",
       "    </tr>\n",
       "    <tr>\n",
       "      <th>Lucknow, India</th>\n",
       "      <td>258</td>\n",
       "      <td>Lucknow, India</td>\n",
       "    </tr>\n",
       "    <tr>\n",
       "      <th>New York, NY</th>\n",
       "      <td>255</td>\n",
       "      <td>New York, NY</td>\n",
       "    </tr>\n",
       "    <tr>\n",
       "      <th>Delhi, India</th>\n",
       "      <td>255</td>\n",
       "      <td>Delhi, India</td>\n",
       "    </tr>\n",
       "    <tr>\n",
       "      <th>Canada</th>\n",
       "      <td>255</td>\n",
       "      <td>Canada</td>\n",
       "    </tr>\n",
       "    <tr>\n",
       "      <th>日本</th>\n",
       "      <td>254</td>\n",
       "      <td>日本</td>\n",
       "    </tr>\n",
       "  </tbody>\n",
       "</table>\n",
       "</div>"
      ],
      "text/plain": [
       "                      location               Country\n",
       "India                     5446                 India\n",
       "New Delhi, India          2229      New Delhi, India\n",
       "Mumbai, India             1039         Mumbai, India\n",
       "United States              930         United States\n",
       "Lagos, Nigeria             612        Lagos, Nigeria\n",
       "USA                        582                   USA\n",
       "भारत                       555                  भारत\n",
       "New Delhi                  533             New Delhi\n",
       "Nigeria                    510               Nigeria\n",
       "Bengaluru, India           509      Bengaluru, India\n",
       "Hong Kong                  498             Hong Kong\n",
       "Hyderabad, India           438      Hyderabad, India\n",
       "Chennai, India             420        Chennai, India\n",
       "Los Angeles, CA            381       Los Angeles, CA\n",
       "Uttar Pradesh, India       377  Uttar Pradesh, India\n",
       "Mumbai                     358                Mumbai\n",
       "Kolkata, India             357        Kolkata, India\n",
       "London, England            344       London, England\n",
       "Earth                      336                 Earth\n",
       "Jaipur, India              329         Jaipur, India\n",
       "California, USA            295       California, USA\n",
       "New York, USA              278         New York, USA\n",
       "Patna, India               276          Patna, India\n",
       "Pune, India                265           Pune, India\n",
       "United Kingdom             261        United Kingdom\n",
       "Lucknow, India             258        Lucknow, India\n",
       "New York, NY               255          New York, NY\n",
       "Delhi, India               255          Delhi, India\n",
       "Canada                     255                Canada\n",
       "日本                         254                    日本"
      ]
     },
     "execution_count": 61,
     "metadata": {},
     "output_type": "execute_result"
    }
   ],
   "source": [
    "# extracting 30 most occuring location from location column from df dataset\n",
    "most_common_tags = df[\"location\"].value_counts().head(30)\n",
    "most_common_tags = pd.DataFrame(most_common_tags)\n",
    "most_common_tags[\"Country\"] = most_common_tags.index\n",
    "most_common_tags"
   ]
  },
  {
   "cell_type": "code",
   "execution_count": 195,
   "id": "fce56a5a",
   "metadata": {},
   "outputs": [
    {
     "data": {
      "image/png": "[encoded data removed]",
      "text/plain": [
       "<Figure size 1440x720 with 1 Axes>"
      ]
     },
     "metadata": {
      "needs_background": "light"
     },
     "output_type": "display_data"
    }
   ],
   "source": [
    "# plotting Most common Location tags from [\"location\"] column \n",
    "plt.figure(figsize=(20,10))\n",
    "squarify.plot(sizes=most_common_tags['location'], label=most_common_tags['Country'], alpha=.8, edgecolor=\"white\" )\n",
    "plt.axis('off')\n",
    "plt.show()"
   ]
  },
  {
   "cell_type": "code",
   "execution_count": 63,
   "id": "ced95162",
   "metadata": {},
   "outputs": [
    {
     "name": "stdout",
     "output_type": "stream",
     "text": [
      "<class 'pandas.core.frame.DataFrame'>\n",
      "Int64Index: 141465 entries, 0 to 141464\n",
      "Data columns (total 15 columns):\n",
      " #   Column           Non-Null Count   Dtype         \n",
      "---  ------           --------------   -----         \n",
      " 0   masked_username  141465 non-null  object        \n",
      " 1   location         88573 non-null   object        \n",
      " 2   following        141465 non-null  int64         \n",
      " 3   followers        141465 non-null  int64         \n",
      " 4   totaltweets      141465 non-null  int64         \n",
      " 5   usercreateddt    141465 non-null  datetime64[ns]\n",
      " 6   tweetcreatedts   141465 non-null  datetime64[ns]\n",
      " 7   retweetcount     141465 non-null  int64         \n",
      " 8   text             141465 non-null  object        \n",
      " 9   hashtags         141465 non-null  object        \n",
      " 10  language         141465 non-null  object        \n",
      " 11  favorite_count   141465 non-null  int64         \n",
      " 12  is_retweet       141465 non-null  bool          \n",
      " 13  is_quote_status  141465 non-null  bool          \n",
      " 14  extractedts      141465 non-null  datetime64[ns]\n",
      "dtypes: bool(2), datetime64[ns](3), int64(5), object(5)\n",
      "memory usage: 15.4+ MB\n"
     ]
    }
   ],
   "source": [
    "df.info()"
   ]
  },
  {
   "cell_type": "code",
   "execution_count": 185,
   "id": "97ec98af",
   "metadata": {},
   "outputs": [
    {
     "name": "stdout",
     "output_type": "stream",
     "text": [
      "<class 'pandas.core.frame.DataFrame'>\n",
      "Index: 2 entries, False to True\n",
      "Data columns (total 2 columns):\n",
      " #   Column           Non-Null Count  Dtype \n",
      "---  ------           --------------  ----- \n",
      " 0   is_quote_status  2 non-null      int64 \n",
      " 1   index            2 non-null      object\n",
      "dtypes: int64(1), object(1)\n",
      "memory usage: 48.0+ bytes\n"
     ]
    }
   ],
   "source": [
    "# getting unique value counts for [\"is_quote_status\"] and storing it in 't' variable\n",
    "is_quote = df[\"is_quote_status\"].value_counts()\n",
    "is_quote = pd.DataFrame(is_quote)\n",
    "is_quote[\"index\"] = is_quote.index\n",
    "is_quote.info()"
   ]
  },
  {
   "cell_type": "code",
   "execution_count": 186,
   "id": "3a3bd53e",
   "metadata": {},
   "outputs": [
    {
     "data": {
      "text/plain": [
       "<AxesSubplot:xlabel='index', ylabel='is_quote_status'>"
      ]
     },
     "execution_count": 186,
     "metadata": {},
     "output_type": "execute_result"
    },
    {
     "data": {
      "image/png": "[encoded data removed]",
      "text/plain": [
       "<Figure size 432x288 with 1 Axes>"
      ]
     },
     "metadata": {
      "needs_background": "light"
     },
     "output_type": "display_data"
    }
   ],
   "source": [
    "# plotting bar graph for [\"is_quote_status\"]\n",
    "sns.barplot(data=is_quote, x='index',y='is_quote_status')"
   ]
  },
  {
   "cell_type": "code",
   "execution_count": 187,
   "id": "1d79325e",
   "metadata": {},
   "outputs": [],
   "source": [
    "# getting unique value count for [\"is_retweet\"] column \n",
    "is_retweet = df[\"is_retweet\"].value_counts()"
   ]
  },
  {
   "cell_type": "code",
   "execution_count": 189,
   "id": "f7d02e88",
   "metadata": {},
   "outputs": [
    {
     "data": {
      "text/plain": [
       "<AxesSubplot:xlabel='True_False', ylabel='is_retweet'>"
      ]
     },
     "execution_count": 189,
     "metadata": {},
     "output_type": "execute_result"
    },
    {
     "data": {
      "image/png": "[encoded data removed]",
      "text/plain": [
       "<Figure size 432x288 with 1 Axes>"
      ]
     },
     "metadata": {
      "needs_background": "light"
     },
     "output_type": "display_data"
    }
   ],
   "source": [
    "# plotting barplot for [\"is_retweet\"]\n",
    "is_retweet = pd.DataFrame(y)\n",
    "is_retweet[\"True_False\"] = y.index\n",
    "sns.barplot(data=is_retweet, x='True_False',y='is_retweet')"
   ]
  },
  {
   "cell_type": "code",
   "execution_count": 190,
   "id": "ce4afe91",
   "metadata": {},
   "outputs": [
    {
     "data": {
      "text/html": [
       "<div>\n",
       "<style scoped>\n",
       "    .dataframe tbody tr th:only-of-type {\n",
       "        vertical-align: middle;\n",
       "    }\n",
       "\n",
       "    .dataframe tbody tr th {\n",
       "        vertical-align: top;\n",
       "    }\n",
       "\n",
       "    .dataframe thead th {\n",
       "        text-align: right;\n",
       "    }\n",
       "</style>\n",
       "<table border=\"1\" class=\"dataframe\">\n",
       "  <thead>\n",
       "    <tr style=\"text-align: right;\">\n",
       "      <th></th>\n",
       "      <th>masked_username</th>\n",
       "      <th>location</th>\n",
       "      <th>following</th>\n",
       "      <th>followers</th>\n",
       "      <th>totaltweets</th>\n",
       "      <th>usercreateddt</th>\n",
       "      <th>tweetcreatedts</th>\n",
       "      <th>retweetcount</th>\n",
       "      <th>text</th>\n",
       "      <th>hashtags</th>\n",
       "      <th>language</th>\n",
       "      <th>favorite_count</th>\n",
       "      <th>is_retweet</th>\n",
       "      <th>is_quote_status</th>\n",
       "      <th>extractedts</th>\n",
       "    </tr>\n",
       "  </thead>\n",
       "  <tbody>\n",
       "    <tr>\n",
       "      <th>52157</th>\n",
       "      <td>*****eazam</td>\n",
       "      <td>Porkistan</td>\n",
       "      <td>76</td>\n",
       "      <td>114</td>\n",
       "      <td>40207</td>\n",
       "      <td>2019-01-16</td>\n",
       "      <td>2022-07-08 14:36:54</td>\n",
       "      <td>28421</td>\n",
       "      <td>Please India as a friend I tell you: stop bein...</td>\n",
       "      <td>[{'text': 'HinduLivesMatters', 'indices': [253...</td>\n",
       "      <td>en</td>\n",
       "      <td>0</td>\n",
       "      <td>True</td>\n",
       "      <td>False</td>\n",
       "      <td>2022-07-08 14:48:55.488491</td>\n",
       "    </tr>\n",
       "    <tr>\n",
       "      <th>128652</th>\n",
       "      <td>*******hMishra</td>\n",
       "      <td>NaN</td>\n",
       "      <td>52</td>\n",
       "      <td>3</td>\n",
       "      <td>30</td>\n",
       "      <td>2017-03-25</td>\n",
       "      <td>2022-07-09 10:51:53</td>\n",
       "      <td>28404</td>\n",
       "      <td>Please India as a friend I tell you: stop bein...</td>\n",
       "      <td>[{'text': 'HinduLivesMatters', 'indices': [253...</td>\n",
       "      <td>en</td>\n",
       "      <td>0</td>\n",
       "      <td>True</td>\n",
       "      <td>False</td>\n",
       "      <td>2022-07-09 11:03:22.354934</td>\n",
       "    </tr>\n",
       "    <tr>\n",
       "      <th>127648</th>\n",
       "      <td>********ash3940</td>\n",
       "      <td>NaN</td>\n",
       "      <td>1862</td>\n",
       "      <td>776</td>\n",
       "      <td>9446</td>\n",
       "      <td>2021-11-22</td>\n",
       "      <td>2022-07-09 10:37:08</td>\n",
       "      <td>28404</td>\n",
       "      <td>Please India as a friend I tell you: stop bein...</td>\n",
       "      <td>[{'text': 'HinduLivesMatters', 'indices': [253...</td>\n",
       "      <td>en</td>\n",
       "      <td>0</td>\n",
       "      <td>True</td>\n",
       "      <td>False</td>\n",
       "      <td>2022-07-09 11:03:32.504510</td>\n",
       "    </tr>\n",
       "    <tr>\n",
       "      <th>127362</th>\n",
       "      <td>******Sweety</td>\n",
       "      <td>NaN</td>\n",
       "      <td>129</td>\n",
       "      <td>24</td>\n",
       "      <td>2538</td>\n",
       "      <td>2022-02-27</td>\n",
       "      <td>2022-07-09 10:32:53</td>\n",
       "      <td>28404</td>\n",
       "      <td>Please India as a friend I tell you: stop bein...</td>\n",
       "      <td>[{'text': 'HinduLivesMatters', 'indices': [253...</td>\n",
       "      <td>en</td>\n",
       "      <td>0</td>\n",
       "      <td>True</td>\n",
       "      <td>False</td>\n",
       "      <td>2022-07-09 11:03:35.601494</td>\n",
       "    </tr>\n",
       "    <tr>\n",
       "      <th>52177</th>\n",
       "      <td>*****eazam</td>\n",
       "      <td>Porkistan</td>\n",
       "      <td>76</td>\n",
       "      <td>114</td>\n",
       "      <td>40207</td>\n",
       "      <td>2019-01-16</td>\n",
       "      <td>2022-07-08 14:36:59</td>\n",
       "      <td>19141</td>\n",
       "      <td>Hindus should be safe in India.\\nIt is their c...</td>\n",
       "      <td>[{'text': 'IsupportNupurSharma', 'indices': [1...</td>\n",
       "      <td>en</td>\n",
       "      <td>0</td>\n",
       "      <td>True</td>\n",
       "      <td>False</td>\n",
       "      <td>2022-07-08 14:48:55.235250</td>\n",
       "    </tr>\n",
       "  </tbody>\n",
       "</table>\n",
       "</div>"
      ],
      "text/plain": [
       "        masked_username   location  following  followers  totaltweets  \\\n",
       "52157        *****eazam  Porkistan         76        114        40207   \n",
       "128652   *******hMishra        NaN         52          3           30   \n",
       "127648  ********ash3940        NaN       1862        776         9446   \n",
       "127362     ******Sweety        NaN        129         24         2538   \n",
       "52177        *****eazam  Porkistan         76        114        40207   \n",
       "\n",
       "       usercreateddt      tweetcreatedts  retweetcount  \\\n",
       "52157     2019-01-16 2022-07-08 14:36:54         28421   \n",
       "128652    2017-03-25 2022-07-09 10:51:53         28404   \n",
       "127648    2021-11-22 2022-07-09 10:37:08         28404   \n",
       "127362    2022-02-27 2022-07-09 10:32:53         28404   \n",
       "52177     2019-01-16 2022-07-08 14:36:59         19141   \n",
       "\n",
       "                                                     text  \\\n",
       "52157   Please India as a friend I tell you: stop bein...   \n",
       "128652  Please India as a friend I tell you: stop bein...   \n",
       "127648  Please India as a friend I tell you: stop bein...   \n",
       "127362  Please India as a friend I tell you: stop bein...   \n",
       "52177   Hindus should be safe in India.\\nIt is their c...   \n",
       "\n",
       "                                                 hashtags language  \\\n",
       "52157   [{'text': 'HinduLivesMatters', 'indices': [253...       en   \n",
       "128652  [{'text': 'HinduLivesMatters', 'indices': [253...       en   \n",
       "127648  [{'text': 'HinduLivesMatters', 'indices': [253...       en   \n",
       "127362  [{'text': 'HinduLivesMatters', 'indices': [253...       en   \n",
       "52177   [{'text': 'IsupportNupurSharma', 'indices': [1...       en   \n",
       "\n",
       "        favorite_count  is_retweet  is_quote_status                extractedts  \n",
       "52157                0        True            False 2022-07-08 14:48:55.488491  \n",
       "128652               0        True            False 2022-07-09 11:03:22.354934  \n",
       "127648               0        True            False 2022-07-09 11:03:32.504510  \n",
       "127362               0        True            False 2022-07-09 11:03:35.601494  \n",
       "52177                0        True            False 2022-07-08 14:48:55.235250  "
      ]
     },
     "execution_count": 190,
     "metadata": {},
     "output_type": "execute_result"
    }
   ],
   "source": [
    "# fetching top 5 retweetcount \n",
    "retweet = df[\"retweetcount\"].sort_values(ascending=False).head()\n",
    "df.loc[retweet.index]"
   ]
  },
  {
   "cell_type": "code",
   "execution_count": 204,
   "id": "c1e45f25",
   "metadata": {},
   "outputs": [
    {
     "data": {
      "text/plain": [
       "English    141465\n",
       "Name: language, dtype: int64"
      ]
     },
     "execution_count": 204,
     "metadata": {},
     "output_type": "execute_result"
    }
   ],
   "source": [
    "# so there's no other language than english, that's why it has 141465 unique values \n",
    "# and index has value of 141465\n",
    "df[\"language\"].value_counts()"
   ]
  },
  {
   "cell_type": "code",
   "execution_count": 315,
   "id": "27bb62de",
   "metadata": {},
   "outputs": [
    {
     "data": {
      "image/png": "[encoded data removed]",
      "text/plain": [
       "<Figure size 1080x360 with 1 Axes>"
      ]
     },
     "metadata": {},
     "output_type": "display_data"
    }
   ],
   "source": [
    "# plotting scatterplot for followers and following \n",
    "sns.set(rc={'figure.figsize':(15,5)})\n",
    "sns.scatterplot(data=df, x=\"followers\",y=\"following\", alpha=0.4, marker = 'o');"
   ]
  },
  {
   "cell_type": "code",
   "execution_count": 313,
   "id": "43275dfb",
   "metadata": {},
   "outputs": [
    {
     "name": "stdout",
     "output_type": "stream",
     "text": [
      "Mean value of followers of dataset is 48012.737065705296\n",
      "Mean value of followers of dataset is 1219.6281270985755\n"
     ]
    }
   ],
   "source": [
    "# fetching top 5 most followers tweeter account\n",
    "tp = df[\"followers\"].sort_values(ascending=False).head()\n",
    "df.loc[tp.index]\n",
    "print(\"Mean value of followers of dataset is\",df[\"followers\"].mean())\n",
    "print(\"Mean value of followers of dataset is\",df[\"following\"].mean())"
   ]
  },
  {
   "cell_type": "markdown",
   "id": "d24dd4bd",
   "metadata": {},
   "source": [
    "## Conclusion :-\n",
    "\n",
    "###### I'm Deeply Saddened After Assassination Of Shinzo's Death And My Condolences And Sympathies Are With Shinzo's Family May Allah Bless Him. It Took Me A While To Analyze The Dataset As It Was My First Time,  Highest Number Of Tweet Are From India, And Indians Are Very Supportive.\n"
   ]
  }
 ],
 "metadata": {
  "kernelspec": {
   "display_name": "Python 3 (ipykernel)",
   "language": "python",
   "name": "python3"
  },
  "language_info": {
   "codemirror_mode": {
    "name": "ipython",
    "version": 3
   },
   "file_extension": ".py",
   "mimetype": "text/x-python",
   "name": "python",
   "nbconvert_exporter": "python",
   "pygments_lexer": "ipython3",
   "version": "3.9.12"
  }
 },
 "nbformat": 4,
 "nbformat_minor": 5
}
